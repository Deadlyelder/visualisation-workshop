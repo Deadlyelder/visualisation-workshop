{
  "nbformat": 4,
  "nbformat_minor": 0,
  "metadata": {
    "colab": {
      "name": "Seaborn.ipynb",
      "provenance": [],
      "authorship_tag": "ABX9TyPB6lrlHWI/2u1TpHJJER1C"
    },
    "kernelspec": {
      "name": "python3",
      "display_name": "Python 3"
    },
    "language_info": {
      "name": "python"
    }
  },
  "cells": [
    {
      "cell_type": "markdown",
      "source": [
        "# Seaborn\n",
        "* Seaborn is a library for data visualization that is backwards compatible with matplotlib.\n",
        "* Provides visualization charts that can display various statistical indicators as data frames.\n",
        "* Not part of Matplotlib, mainly useful for statistical charts "
      ],
      "metadata": {
        "id": "cAZLOFSIGbVz"
      }
    },
    {
      "cell_type": "markdown",
      "source": [
        "## Import"
      ],
      "metadata": {
        "id": "iAeR-QAFGolL"
      }
    },
    {
      "cell_type": "code",
      "source": [
        "# For our data manipulation\n",
        "import numpy as np \n",
        "# For plotting\n",
        "import matplotlib.pyplot as plt\n",
        "import seaborn as sns\n",
        "\n",
        "# Optionally to disable warnings from the library\n",
        "import warnings\n",
        "\n",
        "warnings.filterwarnings('ignore')"
      ],
      "metadata": {
        "id": "5Dw8ohvDGraH"
      },
      "execution_count": 1,
      "outputs": []
    },
    {
      "cell_type": "code",
      "source": [
        ""
      ],
      "metadata": {
        "id": "tP15ycoUG0Ta"
      },
      "execution_count": null,
      "outputs": []
    }
  ]
}